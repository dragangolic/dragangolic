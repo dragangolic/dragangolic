{
 "cells": [
  {
   "cell_type": "code",
   "execution_count": null,
   "id": "d7671049",
   "metadata": {},
   "outputs": [],
   "source": [
    "from bs4 import BeautifulSoup\n",
    "import urllib.request\n",
    "from IPython.display import HTML\n",
    "import re"
   ]
  },
  {
   "cell_type": "code",
   "execution_count": null,
   "id": "3452fe65",
   "metadata": {},
   "outputs": [],
   "source": [
    "r = urllib.request.urlopen('https://analytics.usa.gov/').read()\n",
    "soup = BeautifulSoup(r, \"lxml\")\n",
    "type (soup)\n"
   ]
  },
  {
   "cell_type": "code",
   "execution_count": null,
   "id": "4e16b296",
   "metadata": {},
   "outputs": [],
   "source": [
    "print(soup.prettify()[: 100])"
   ]
  },
  {
   "cell_type": "code",
   "execution_count": null,
   "id": "1ce1698c",
   "metadata": {},
   "outputs": [],
   "source": [
    "for link in soup.find_all('a'):\n",
    "    print(link.get('href'))"
   ]
  },
  {
   "cell_type": "code",
   "execution_count": null,
   "id": "1d567dc6",
   "metadata": {},
   "outputs": [],
   "source": [
    "# print(soup.get_text())\n",
    "# print(soup.prettify()[0:1000])"
   ]
  },
  {
   "cell_type": "code",
   "execution_count": null,
   "id": "bbd50964",
   "metadata": {},
   "outputs": [],
   "source": [
    "print(soup.get_text())"
   ]
  },
  {
   "cell_type": "code",
   "execution_count": null,
   "id": "009c7a19",
   "metadata": {},
   "outputs": [],
   "source": [
    "for link in soup.find_all('a', attrs={'href': re.compile(\"^http\")}):\n",
    "    print(link)\n"
   ]
  },
  {
   "cell_type": "code",
   "execution_count": null,
   "id": "d807c119",
   "metadata": {},
   "outputs": [],
   "source": [
    "file = open(\"parsed_data.txt\", \"w\")\n",
    "for link in soup.findAll('a', attrs={'href': re.compile(\"^http\")}):\n",
    "    soup_link = str(link)\n",
    "    file.write(soup_link)"
   ]
  },
  {
   "cell_type": "code",
   "execution_count": null,
   "id": "6a93d40b",
   "metadata": {},
   "outputs": [],
   "source": [
    "file.flush()\n",
    "file.close()"
   ]
  },
  {
   "cell_type": "code",
   "execution_count": null,
   "id": "84ce1429",
   "metadata": {},
   "outputs": [],
   "source": []
  },
  {
   "cell_type": "code",
   "execution_count": null,
   "id": "4f2c1937",
   "metadata": {},
   "outputs": [],
   "source": []
  },
  {
   "cell_type": "code",
   "execution_count": null,
   "id": "9e9d431d",
   "metadata": {},
   "outputs": [],
   "source": []
  },
  {
   "cell_type": "code",
   "execution_count": null,
   "id": "9471678d",
   "metadata": {},
   "outputs": [],
   "source": []
  },
  {
   "cell_type": "code",
   "execution_count": null,
   "id": "edb9d7a8",
   "metadata": {},
   "outputs": [],
   "source": []
  },
  {
   "cell_type": "code",
   "execution_count": null,
   "id": "8ee09bf5",
   "metadata": {},
   "outputs": [],
   "source": []
  },
  {
   "cell_type": "code",
   "execution_count": null,
   "id": "3d1d7a08",
   "metadata": {},
   "outputs": [],
   "source": []
  },
  {
   "cell_type": "code",
   "execution_count": null,
   "id": "f1b8c489",
   "metadata": {},
   "outputs": [],
   "source": []
  }
 ],
 "metadata": {
  "kernelspec": {
   "display_name": "Python 3 (ipykernel)",
   "language": "python",
   "name": "python3"
  },
  "language_info": {
   "codemirror_mode": {
    "name": "ipython",
    "version": 3
   },
   "file_extension": ".py",
   "mimetype": "text/x-python",
   "name": "python",
   "nbconvert_exporter": "python",
   "pygments_lexer": "ipython3",
   "version": "3.9.12"
  }
 },
 "nbformat": 4,
 "nbformat_minor": 5
}
