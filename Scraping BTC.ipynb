{
 "cells": [
  {
   "cell_type": "code",
   "execution_count": null,
   "id": "41a3d927",
   "metadata": {},
   "outputs": [],
   "source": [
    "pip install request\n",
    "pip install beautifulsoup4\n"
   ]
  },
  {
   "cell_type": "code",
   "execution_count": null,
   "id": "6f67db59",
   "metadata": {},
   "outputs": [],
   "source": [
    "from bs4 import BeautifulSoup\n",
    "import requests"
   ]
  },
  {
   "cell_type": "code",
   "execution_count": null,
   "id": "92e7fdbe",
   "metadata": {},
   "outputs": [],
   "source": [
    "url = \"https://www.interactivebrokers.com/en/index.php?f=49513\"\n",
    "result = requests.get(url).text\n",
    "doc = BeautifulSoup(result, \"html.parser\")"
   ]
  },
  {
   "cell_type": "code",
   "execution_count": null,
   "id": "ec6a3d37",
   "metadata": {},
   "outputs": [],
   "source": [
    "tbody = doc.tbody\n",
    "trs = tbody.contents"
   ]
  },
  {
   "cell_type": "code",
   "execution_count": null,
   "id": "2cc8cebe",
   "metadata": {},
   "outputs": [],
   "source": [
    "prices = {}"
   ]
  },
  {
   "cell_type": "code",
   "execution_count": null,
   "id": "84bbd8a0",
   "metadata": {},
   "outputs": [],
   "source": [
    "for tr in trs[:15]:\n",
    "    name, price = tr.contents[2:4]\n",
    "    fixed_name = name.p.string\n",
    "    fixed_price = price.a.string\n",
    "    \n",
    "    prices[fix_name] = fixed_price"
   ]
  },
  {
   "cell_type": "code",
   "execution_count": null,
   "id": "76109d6b",
   "metadata": {},
   "outputs": [],
   "source": [
    "print(prices)"
   ]
  },
  {
   "cell_type": "code",
   "execution_count": null,
   "id": "e411d4e1",
   "metadata": {},
   "outputs": [],
   "source": []
  },
  {
   "cell_type": "code",
   "execution_count": null,
   "id": "110474b2",
   "metadata": {},
   "outputs": [],
   "source": []
  },
  {
   "cell_type": "code",
   "execution_count": null,
   "id": "7d0bd0ba",
   "metadata": {},
   "outputs": [],
   "source": []
  },
  {
   "cell_type": "code",
   "execution_count": null,
   "id": "3f2ea391",
   "metadata": {},
   "outputs": [],
   "source": []
  },
  {
   "cell_type": "code",
   "execution_count": null,
   "id": "9f63edca",
   "metadata": {},
   "outputs": [],
   "source": []
  },
  {
   "cell_type": "code",
   "execution_count": null,
   "id": "fd120bb9",
   "metadata": {},
   "outputs": [],
   "source": []
  },
  {
   "cell_type": "code",
   "execution_count": null,
   "id": "743d6fd7",
   "metadata": {},
   "outputs": [],
   "source": []
  },
  {
   "cell_type": "code",
   "execution_count": null,
   "id": "bdde0325",
   "metadata": {},
   "outputs": [],
   "source": []
  },
  {
   "cell_type": "code",
   "execution_count": null,
   "id": "eaf35cfe",
   "metadata": {},
   "outputs": [],
   "source": []
  }
 ],
 "metadata": {
  "kernelspec": {
   "display_name": "Python 3 (ipykernel)",
   "language": "python",
   "name": "python3"
  },
  "language_info": {
   "codemirror_mode": {
    "name": "ipython",
    "version": 3
   },
   "file_extension": ".py",
   "mimetype": "text/x-python",
   "name": "python",
   "nbconvert_exporter": "python",
   "pygments_lexer": "ipython3",
   "version": "3.9.12"
  }
 },
 "nbformat": 4,
 "nbformat_minor": 5
}
