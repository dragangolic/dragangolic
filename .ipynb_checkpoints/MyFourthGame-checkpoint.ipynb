{
 "cells": [
  {
   "cell_type": "code",
   "execution_count": null,
   "id": "5fd8b202",
   "metadata": {},
   "outputs": [],
   "source": [
    "from random import *\n",
    "answer = randint(0, 10)\n",
    "correct = False\n",
    "while not correct:\n",
    "    guess = int(input(\"Guess a number (0,10): \"))\n",
    "    if guess < answer:\n",
    "        print(\"too low\")\n",
    "    elif guess > answer:\n",
    "        print(\"too high\")\n",
    "    else:\n",
    "        print(\"Correct\")\n",
    "        correct = True"
   ]
  },
  {
   "cell_type": "code",
   "execution_count": null,
   "id": "3b0dacce",
   "metadata": {},
   "outputs": [],
   "source": []
  }
 ],
 "metadata": {
  "kernelspec": {
   "display_name": "Python 3 (ipykernel)",
   "language": "python",
   "name": "python3"
  },
  "language_info": {
   "codemirror_mode": {
    "name": "ipython",
    "version": 3
   },
   "file_extension": ".py",
   "mimetype": "text/x-python",
   "name": "python",
   "nbconvert_exporter": "python",
   "pygments_lexer": "ipython3",
   "version": "3.9.12"
  }
 },
 "nbformat": 4,
 "nbformat_minor": 5
}
