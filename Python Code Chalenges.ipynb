{
 "cells": [
  {
   "cell_type": "markdown",
   "id": "8935ae93",
   "metadata": {},
   "source": [
    "WRITE A pYTHON FUNCTION TO FIND ALL PRIME FACTORS\n",
    "- INPUT:                           >>> get_prime_factors(630)\n",
    "INTEGER VALUE                       [2, 3, 3, 5, 7]\n",
    "- OUTPUT:                           2x3x3x5x7 = 630\n",
    "LIST OF PRIME FACTORS\n",
    "\n",
    "60/2    30/2    15/2      15/3      5/5\n",
    "[2]     [2, 2]   7.5 X  [2, 2, 3] [2, 2, 3, 5]\n",
    "30      15                 5         1"
   ]
  },
  {
   "cell_type": "code",
   "execution_count": null,
   "id": "1fc41d75",
   "metadata": {},
   "outputs": [],
   "source": [
    "def get_prime_factors(N):\n",
    "    factors = list()\n",
    "    divisor = 2\n",
    "    while(divisor <= N):\n",
    "        if (N % divisor) == 0:\n",
    "            factors.append(divisor)\n",
    "            N = N//divisor\n",
    "        else:\n",
    "            divisor += 1\n",
    "    return factors"
   ]
  },
  {
   "cell_type": "code",
   "execution_count": null,
   "id": "9c508d4a",
   "metadata": {},
   "outputs": [],
   "source": [
    "# get_prime_factors(13)"
   ]
  },
  {
   "cell_type": "code",
   "execution_count": null,
   "id": "fcb0e66f",
   "metadata": {},
   "outputs": [],
   "source": []
  },
  {
   "cell_type": "code",
   "execution_count": null,
   "id": "7d1b2be1",
   "metadata": {},
   "outputs": [],
   "source": []
  },
  {
   "cell_type": "code",
   "execution_count": null,
   "id": "002d1b8c",
   "metadata": {},
   "outputs": [],
   "source": []
  },
  {
   "cell_type": "code",
   "execution_count": null,
   "id": "5e32293a",
   "metadata": {},
   "outputs": [],
   "source": []
  },
  {
   "cell_type": "code",
   "execution_count": null,
   "id": "678dfbe4",
   "metadata": {},
   "outputs": [],
   "source": []
  },
  {
   "cell_type": "code",
   "execution_count": null,
   "id": "2c9a1df0",
   "metadata": {},
   "outputs": [],
   "source": []
  },
  {
   "cell_type": "code",
   "execution_count": null,
   "id": "4383b556",
   "metadata": {},
   "outputs": [],
   "source": []
  }
 ],
 "metadata": {
  "kernelspec": {
   "display_name": "Python 3 (ipykernel)",
   "language": "python",
   "name": "python3"
  },
  "language_info": {
   "codemirror_mode": {
    "name": "ipython",
    "version": 3
   },
   "file_extension": ".py",
   "mimetype": "text/x-python",
   "name": "python",
   "nbconvert_exporter": "python",
   "pygments_lexer": "ipython3",
   "version": "3.9.12"
  }
 },
 "nbformat": 4,
 "nbformat_minor": 5
}
